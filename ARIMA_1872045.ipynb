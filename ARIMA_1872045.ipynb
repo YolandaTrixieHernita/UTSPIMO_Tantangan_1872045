{
  "nbformat": 4,
  "nbformat_minor": 0,
  "metadata": {
    "colab": {
      "name": "ARIMA_1872045.ipynb",
      "provenance": []
    },
    "kernelspec": {
      "name": "python3",
      "display_name": "Python 3"
    },
    "language_info": {
      "name": "python"
    }
  },
  "cells": [
    {
      "cell_type": "markdown",
      "metadata": {
        "id": "LHkif8lWicL6"
      },
      "source": [
        "Yolanda TH 1872045\n",
        "https://machinelearningmastery.com/arima-for-time-series-forecasting-with-python/"
      ]
    },
    {
      "cell_type": "code",
      "metadata": {
        "id": "7dPPdH3iTl2I"
      },
      "source": [
        "import pandas as pd"
      ],
      "execution_count": null,
      "outputs": []
    },
    {
      "cell_type": "code",
      "metadata": {
        "id": "abxRbUseUDd5"
      },
      "source": [
        "location = \"/content/drive/MyDrive/UTS PIMO/1872045_philoit.csv\"\n",
        "df = pd.read_csv(location)"
      ],
      "execution_count": null,
      "outputs": []
    },
    {
      "cell_type": "code",
      "metadata": {
        "colab": {
          "base_uri": "https://localhost:8080/",
          "height": 419
        },
        "id": "wvUbiq_eWaue",
        "outputId": "0f06c983-e76c-44be-e88b-f0dbb8cbd047"
      },
      "source": [
        "df"
      ],
      "execution_count": null,
      "outputs": [
        {
          "output_type": "execute_result",
          "data": {
            "text/html": [
              "<div>\n",
              "<style scoped>\n",
              "    .dataframe tbody tr th:only-of-type {\n",
              "        vertical-align: middle;\n",
              "    }\n",
              "\n",
              "    .dataframe tbody tr th {\n",
              "        vertical-align: top;\n",
              "    }\n",
              "\n",
              "    .dataframe thead th {\n",
              "        text-align: right;\n",
              "    }\n",
              "</style>\n",
              "<table border=\"1\" class=\"dataframe\">\n",
              "  <thead>\n",
              "    <tr style=\"text-align: right;\">\n",
              "      <th></th>\n",
              "      <th>Unnamed: 0</th>\n",
              "      <th>created_at</th>\n",
              "      <th>y</th>\n",
              "    </tr>\n",
              "  </thead>\n",
              "  <tbody>\n",
              "    <tr>\n",
              "      <th>0</th>\n",
              "      <td>1788</td>\n",
              "      <td>2020-02-01 00:37:00</td>\n",
              "      <td>0</td>\n",
              "    </tr>\n",
              "    <tr>\n",
              "      <th>1</th>\n",
              "      <td>1789</td>\n",
              "      <td>2020-02-01 00:41:34</td>\n",
              "      <td>0</td>\n",
              "    </tr>\n",
              "    <tr>\n",
              "      <th>2</th>\n",
              "      <td>1790</td>\n",
              "      <td>2020-02-01 00:41:34</td>\n",
              "      <td>0</td>\n",
              "    </tr>\n",
              "    <tr>\n",
              "      <th>3</th>\n",
              "      <td>1791</td>\n",
              "      <td>2020-02-01 00:41:34</td>\n",
              "      <td>0</td>\n",
              "    </tr>\n",
              "    <tr>\n",
              "      <th>4</th>\n",
              "      <td>1792</td>\n",
              "      <td>2020-02-01 01:25:41</td>\n",
              "      <td>0</td>\n",
              "    </tr>\n",
              "    <tr>\n",
              "      <th>...</th>\n",
              "      <td>...</td>\n",
              "      <td>...</td>\n",
              "      <td>...</td>\n",
              "    </tr>\n",
              "    <tr>\n",
              "      <th>3133</th>\n",
              "      <td>4921</td>\n",
              "      <td>2020-04-28 04:44:43</td>\n",
              "      <td>0</td>\n",
              "    </tr>\n",
              "    <tr>\n",
              "      <th>3134</th>\n",
              "      <td>4922</td>\n",
              "      <td>2020-04-29 08:25:54</td>\n",
              "      <td>0</td>\n",
              "    </tr>\n",
              "    <tr>\n",
              "      <th>3135</th>\n",
              "      <td>4923</td>\n",
              "      <td>2020-04-29 08:26:15</td>\n",
              "      <td>0</td>\n",
              "    </tr>\n",
              "    <tr>\n",
              "      <th>3136</th>\n",
              "      <td>4924</td>\n",
              "      <td>2020-04-29 08:26:39</td>\n",
              "      <td>0</td>\n",
              "    </tr>\n",
              "    <tr>\n",
              "      <th>3137</th>\n",
              "      <td>4925</td>\n",
              "      <td>2020-04-29 08:41:07</td>\n",
              "      <td>0</td>\n",
              "    </tr>\n",
              "  </tbody>\n",
              "</table>\n",
              "<p>3138 rows × 3 columns</p>\n",
              "</div>"
            ],
            "text/plain": [
              "      Unnamed: 0           created_at  y\n",
              "0           1788  2020-02-01 00:37:00  0\n",
              "1           1789  2020-02-01 00:41:34  0\n",
              "2           1790  2020-02-01 00:41:34  0\n",
              "3           1791  2020-02-01 00:41:34  0\n",
              "4           1792  2020-02-01 01:25:41  0\n",
              "...          ...                  ... ..\n",
              "3133        4921  2020-04-28 04:44:43  0\n",
              "3134        4922  2020-04-29 08:25:54  0\n",
              "3135        4923  2020-04-29 08:26:15  0\n",
              "3136        4924  2020-04-29 08:26:39  0\n",
              "3137        4925  2020-04-29 08:41:07  0\n",
              "\n",
              "[3138 rows x 3 columns]"
            ]
          },
          "metadata": {
            "tags": []
          },
          "execution_count": 15
        }
      ]
    },
    {
      "cell_type": "code",
      "metadata": {
        "id": "AqPXDCKbV0g7"
      },
      "source": [
        "from matplotlib import pyplot as plt"
      ],
      "execution_count": null,
      "outputs": []
    },
    {
      "cell_type": "code",
      "metadata": {
        "colab": {
          "base_uri": "https://localhost:8080/",
          "height": 296
        },
        "id": "Np8TEXXTV3Fg",
        "outputId": "d6fec01d-35b0-4a11-8422-0fe4ed646c92"
      },
      "source": [
        "df = pd.read_csv(location, parse_dates = ['created_at'], index_col = ['created_at'])\n",
        "df.drop(df.columns[0], axis=1, inplace=True)\n",
        "plt.xlabel('x')\n",
        "plt.ylabel('y')\n",
        "plt.plot(df)"
      ],
      "execution_count": null,
      "outputs": [
        {
          "output_type": "execute_result",
          "data": {
            "text/plain": [
              "[<matplotlib.lines.Line2D at 0x7ff2d9df8850>]"
            ]
          },
          "metadata": {
            "tags": []
          },
          "execution_count": 17
        },
        {
          "output_type": "display_data",
          "data": {
            "image/png": "[encoded data removed]",
            "text/plain": [
              "<Figure size 432x288 with 1 Axes>"
            ]
          },
          "metadata": {
            "tags": [],
            "needs_background": "light"
          }
        }
      ]
    },
    {
      "cell_type": "code",
      "metadata": {
        "colab": {
          "base_uri": "https://localhost:8080/",
          "height": 283
        },
        "id": "JY1iuBGRXw2p",
        "outputId": "c3e07db1-bbee-499e-8595-3738d80cd563"
      },
      "source": [
        "from pandas.plotting import autocorrelation_plot\n",
        "autocorrelation_plot(df)\n",
        "plt.show()"
      ],
      "execution_count": 40,
      "outputs": [
        {
          "output_type": "display_data",
          "data": {
            "image/png": "[encoded data removed]",
            "text/plain": [
              "<Figure size 432x288 with 1 Axes>"
            ]
          },
          "metadata": {
            "tags": [],
            "needs_background": "light"
          }
        }
      ]
    },
    {
      "cell_type": "code",
      "metadata": {
        "colab": {
          "base_uri": "https://localhost:8080/",
          "height": 513
        },
        "id": "JqeMbg6kYRDm",
        "outputId": "3e0f33a8-eacc-45a6-9dab-fa61ead6af44"
      },
      "source": [
        "pip install git+https://github.com/statsmodels/statsmodels"
      ],
      "execution_count": 41,
      "outputs": [
        {
          "output_type": "stream",
          "text": [
            "Collecting git+https://github.com/statsmodels/statsmodels\n",
            "  Cloning https://github.com/statsmodels/statsmodels to /tmp/pip-req-build-s6j9pmf5\n",
            "  Running command git clone -q https://github.com/statsmodels/statsmodels /tmp/pip-req-build-s6j9pmf5\n",
            "  Installing build dependencies ... \u001b[?25l\u001b[?25hdone\n",
            "  Getting requirements to build wheel ... \u001b[?25l\u001b[?25hdone\n",
            "    Preparing wheel metadata ... \u001b[?25l\u001b[?25hdone\n",
            "Requirement already satisfied: numpy>=1.17 in /usr/local/lib/python3.7/dist-packages (from statsmodels==0.13.0.dev0+319.g77bb1d276) (1.19.5)\n",
            "Requirement already satisfied: pandas>=0.25 in /usr/local/lib/python3.7/dist-packages (from statsmodels==0.13.0.dev0+319.g77bb1d276) (1.1.5)\n",
            "Requirement already satisfied: patsy>=0.5.1 in /usr/local/lib/python3.7/dist-packages (from statsmodels==0.13.0.dev0+319.g77bb1d276) (0.5.1)\n",
            "Requirement already satisfied: scipy>=1.3 in /usr/local/lib/python3.7/dist-packages (from statsmodels==0.13.0.dev0+319.g77bb1d276) (1.4.1)\n",
            "Requirement already satisfied: pytz>=2017.2 in /usr/local/lib/python3.7/dist-packages (from pandas>=0.25->statsmodels==0.13.0.dev0+319.g77bb1d276) (2018.9)\n",
            "Requirement already satisfied: python-dateutil>=2.7.3 in /usr/local/lib/python3.7/dist-packages (from pandas>=0.25->statsmodels==0.13.0.dev0+319.g77bb1d276) (2.8.1)\n",
            "Requirement already satisfied: six in /usr/local/lib/python3.7/dist-packages (from patsy>=0.5.1->statsmodels==0.13.0.dev0+319.g77bb1d276) (1.15.0)\n",
            "Building wheels for collected packages: statsmodels\n",
            "  Building wheel for statsmodels (PEP 517) ... \u001b[?25l\u001b[?25hdone\n",
            "  Created wheel for statsmodels: filename=statsmodels-0.13.0.dev0+319.g77bb1d276-cp37-cp37m-linux_x86_64.whl size=17615749 sha256=172f992b7f9a70435f28f21f333d84d8f1e095fe5b473472ae16883b57139774\n",
            "  Stored in directory: /tmp/pip-ephem-wheel-cache-0gpsmv65/wheels/7d/ad/45/ac1a03bd759c2fa74c486e2b1950d94b55f511b4c2b0418bd5\n",
            "Successfully built statsmodels\n",
            "Installing collected packages: statsmodels\n",
            "  Found existing installation: statsmodels 0.10.2\n",
            "    Uninstalling statsmodels-0.10.2:\n",
            "      Successfully uninstalled statsmodels-0.10.2\n",
            "Successfully installed statsmodels-0.13.0.dev0+319.g77bb1d276\n"
          ],
          "name": "stdout"
        },
        {
          "output_type": "display_data",
          "data": {
            "application/vnd.colab-display-data+json": {
              "pip_warning": {
                "packages": [
                  "statsmodels"
                ]
              }
            }
          },
          "metadata": {
            "tags": []
          }
        }
      ]
    },
    {
      "cell_type": "code",
      "metadata": {
        "id": "nIsxPnxUY3O2"
      },
      "source": [
        "from statsmodels.tsa.arima.model import ARIMA"
      ],
      "execution_count": 42,
      "outputs": []
    },
    {
      "cell_type": "code",
      "metadata": {
        "colab": {
          "base_uri": "https://localhost:8080/"
        },
        "id": "gDKZ2oy9ecl_",
        "outputId": "1c853e39-2dac-469e-b9b8-c2794ac651a8"
      },
      "source": [
        "model = ARIMA(df, order=(5,1,0))\n",
        "model_fit = model.fit()\n",
        "print(model_fit.summary())"
      ],
      "execution_count": 46,
      "outputs": [
        {
          "output_type": "stream",
          "text": [
            "                               SARIMAX Results                                \n",
            "==============================================================================\n",
            "Dep. Variable:                      y   No. Observations:                   89\n",
            "Model:                 ARIMA(5, 1, 0)   Log Likelihood                 -65.871\n",
            "Date:                Fri, 16 Apr 2021   AIC                            143.742\n",
            "Time:                        07:01:56   BIC                            158.606\n",
            "Sample:                    02-01-2020   HQIC                           149.731\n",
            "                         - 04-29-2020                                         \n",
            "Covariance Type:                  opg                                         \n",
            "==============================================================================\n",
            "                 coef    std err          z      P>|z|      [0.025      0.975]\n",
            "------------------------------------------------------------------------------\n",
            "ar.L1         -0.8524      0.092     -9.299      0.000      -1.032      -0.673\n",
            "ar.L2         -0.7094      0.104     -6.846      0.000      -0.912      -0.506\n",
            "ar.L3         -0.6020      0.095     -6.313      0.000      -0.789      -0.415\n",
            "ar.L4         -0.3407      0.111     -3.066      0.002      -0.558      -0.123\n",
            "ar.L5         -0.3423      0.079     -4.334      0.000      -0.497      -0.188\n",
            "sigma2         0.2569      0.027      9.623      0.000       0.205       0.309\n",
            "===================================================================================\n",
            "Ljung-Box (L1) (Q):                   0.59   Jarque-Bera (JB):                85.90\n",
            "Prob(Q):                              0.44   Prob(JB):                         0.00\n",
            "Heteroskedasticity (H):               0.00   Skew:                             1.46\n",
            "Prob(H) (two-sided):                  0.00   Kurtosis:                         6.86\n",
            "===================================================================================\n",
            "\n",
            "Warnings:\n",
            "[1] Covariance matrix calculated using the outer product of gradients (complex-step).\n"
          ],
          "name": "stdout"
        }
      ]
    },
    {
      "cell_type": "code",
      "metadata": {
        "colab": {
          "base_uri": "https://localhost:8080/",
          "height": 315
        },
        "id": "LzynQZNTfJHR",
        "outputId": "cf45d689-f815-4339-bc0b-6e9f2fa68c33"
      },
      "source": [
        "residuals = pd.DataFrame(model_fit.resid)\n",
        "residuals.plot()\n",
        "plt.show()"
      ],
      "execution_count": 49,
      "outputs": [
        {
          "output_type": "display_data",
          "data": {
            "image/png": "[encoded data removed]",
            "text/plain": [
              "<Figure size 432x288 with 1 Axes>"
            ]
          },
          "metadata": {
            "tags": [],
            "needs_background": "light"
          }
        }
      ]
    },
    {
      "cell_type": "code",
      "metadata": {
        "colab": {
          "base_uri": "https://localhost:8080/",
          "height": 265
        },
        "id": "u2LX52LSfxQr",
        "outputId": "ad658e9e-d3a9-4970-ace7-e1cc4d6dc272"
      },
      "source": [
        "residuals.plot(kind='kde')\n",
        "plt.show()"
      ],
      "execution_count": 51,
      "outputs": [
        {
          "output_type": "display_data",
          "data": {
            "image/png": "[encoded data removed]",
            "text/plain": [
              "<Figure size 432x288 with 1 Axes>"
            ]
          },
          "metadata": {
            "tags": [],
            "needs_background": "light"
          }
        }
      ]
    },
    {
      "cell_type": "code",
      "metadata": {
        "colab": {
          "base_uri": "https://localhost:8080/"
        },
        "id": "G8xRUeIxf6kc",
        "outputId": "bf0442cd-8769-44a5-97a8-4f3ee6f73a36"
      },
      "source": [
        "print(residuals.describe())"
      ],
      "execution_count": 52,
      "outputs": [
        {
          "output_type": "stream",
          "text": [
            "                   0\n",
            "count   8.900000e+01\n",
            "mean   -2.445848e-13\n",
            "std     5.069022e-01\n",
            "min    -9.971211e-01\n",
            "25%    -1.475722e-01\n",
            "50%   -1.271295e-101\n",
            "75%     1.077298e-38\n",
            "max     2.054068e+00\n"
          ],
          "name": "stdout"
        }
      ]
    },
    {
      "cell_type": "code",
      "metadata": {
        "id": "WQNihgzVgOWu"
      },
      "source": [
        "#forcasting \n",
        "from sklearn.metrics import mean_squared_error\n",
        "from math import sqrt"
      ],
      "execution_count": 53,
      "outputs": []
    },
    {
      "cell_type": "code",
      "metadata": {
        "colab": {
          "base_uri": "https://localhost:8080/"
        },
        "id": "boyx5tHKgau2",
        "outputId": "ca88585d-50c3-412f-eb5b-450c2c778cfc"
      },
      "source": [
        "X = df.values\n",
        "train, test = X, X\n",
        "history = [x for x in train]\n",
        "predictions = list()\n",
        "for t in range(len(test)):\n",
        "\tmodel = ARIMA(history, order=(10,1,0))\n",
        "\tmodel_fit = model.fit()\n",
        "\toutput = model_fit.forecast()\n",
        "\tyhat = output[0]\n",
        "\tpredictions.append(yhat)\n",
        "\tobs = test[t]\n",
        "\thistory.append(obs)\n",
        "\tprint('predicted=%f, expected=%f' % (yhat, obs))\n",
        "rmse = sqrt(mean_squared_error(test, predictions))\n",
        "print('Test RMSE: %.3f' % rmse)\n"
      ],
      "execution_count": 55,
      "outputs": [
        {
          "output_type": "stream",
          "text": [
            "predicted=0.000000, expected=0.000000\n",
            "predicted=0.000000, expected=0.000000\n",
            "predicted=0.000000, expected=0.000000\n",
            "predicted=-0.000000, expected=0.000000\n",
            "predicted=-0.000000, expected=0.000000\n",
            "predicted=-0.000000, expected=0.000000\n",
            "predicted=0.000000, expected=0.000000\n",
            "predicted=0.000000, expected=1.000000\n",
            "predicted=0.032995, expected=0.000000\n",
            "predicted=0.034948, expected=0.000000\n",
            "predicted=-0.049146, expected=0.000000\n",
            "predicted=0.213898, expected=1.000000\n",
            "predicted=-0.090887, expected=0.000000\n",
            "predicted=0.329429, expected=0.000000\n",
            "predicted=0.087666, expected=1.000000\n",
            "predicted=0.301646, expected=0.000000\n",
            "predicted=0.175482, expected=1.000000\n",
            "predicted=0.268160, expected=1.000000\n",
            "predicted=0.509782, expected=2.000000\n",
            "predicted=0.023102, expected=0.000000\n",
            "predicted=0.941947, expected=0.000000\n",
            "predicted=0.238891, expected=0.000000\n",
            "predicted=0.709973, expected=0.000000\n",
            "predicted=0.438901, expected=0.000000\n",
            "predicted=0.726033, expected=1.000000\n",
            "predicted=0.834059, expected=0.000000\n",
            "predicted=0.333707, expected=1.000000\n",
            "predicted=0.687641, expected=2.000000\n",
            "predicted=0.741554, expected=0.000000\n",
            "predicted=0.126598, expected=1.000000\n",
            "predicted=0.441275, expected=0.000000\n",
            "predicted=0.347551, expected=0.000000\n",
            "predicted=-0.065669, expected=0.000000\n",
            "predicted=1.020181, expected=3.000000\n",
            "predicted=0.234301, expected=0.000000\n",
            "predicted=0.936067, expected=0.000000\n",
            "predicted=0.785512, expected=0.000000\n",
            "predicted=0.821547, expected=1.000000\n",
            "predicted=0.211404, expected=0.000000\n",
            "predicted=1.081559, expected=1.000000\n",
            "predicted=0.551790, expected=0.000000\n",
            "predicted=0.142146, expected=1.000000\n",
            "predicted=0.782807, expected=0.000000\n",
            "predicted=0.741332, expected=0.000000\n",
            "predicted=0.407107, expected=0.000000\n",
            "predicted=0.607943, expected=0.000000\n",
            "predicted=0.248459, expected=1.000000\n",
            "predicted=0.409325, expected=0.000000\n",
            "predicted=0.611737, expected=0.000000\n",
            "predicted=-0.003640, expected=0.000000\n",
            "predicted=0.651579, expected=0.000000\n",
            "predicted=-0.103687, expected=0.000000\n",
            "predicted=0.428551, expected=0.000000\n",
            "predicted=0.143580, expected=0.000000\n",
            "predicted=0.035907, expected=0.000000\n",
            "predicted=0.285921, expected=0.000000\n",
            "predicted=0.036488, expected=0.000000\n",
            "predicted=0.103015, expected=0.000000\n",
            "predicted=0.000000, expected=0.000000\n",
            "predicted=-0.000000, expected=0.000000\n",
            "predicted=0.000000, expected=0.000000\n",
            "predicted=0.000000, expected=0.000000\n",
            "predicted=-0.000000, expected=0.000000\n",
            "predicted=0.000000, expected=0.000000\n",
            "predicted=0.000000, expected=0.000000\n",
            "predicted=0.000000, expected=0.000000\n",
            "predicted=0.000000, expected=0.000000\n",
            "predicted=0.000000, expected=0.000000\n",
            "predicted=0.000000, expected=0.000000\n",
            "predicted=0.000000, expected=0.000000\n",
            "predicted=0.000000, expected=0.000000\n",
            "predicted=0.000000, expected=0.000000\n",
            "predicted=-0.000000, expected=0.000000\n",
            "predicted=0.000000, expected=0.000000\n",
            "predicted=0.000000, expected=0.000000\n",
            "predicted=0.000000, expected=0.000000\n",
            "predicted=0.000000, expected=0.000000\n",
            "predicted=0.000000, expected=0.000000\n",
            "predicted=0.000000, expected=0.000000\n",
            "predicted=0.000000, expected=0.000000\n",
            "predicted=-0.000000, expected=0.000000\n",
            "predicted=-0.000000, expected=0.000000\n",
            "predicted=0.000000, expected=0.000000\n",
            "predicted=-0.000000, expected=0.000000\n",
            "predicted=0.000000, expected=0.000000\n",
            "predicted=-0.000000, expected=0.000000\n",
            "predicted=-0.000000, expected=0.000000\n",
            "predicted=0.000000, expected=0.000000\n",
            "predicted=0.000000, expected=0.000000\n",
            "Test RMSE: 0.502\n"
          ],
          "name": "stdout"
        }
      ]
    },
    {
      "cell_type": "code",
      "metadata": {
        "colab": {
          "base_uri": "https://localhost:8080/",
          "height": 265
        },
        "id": "BsPf4JrViJgq",
        "outputId": "023af31b-3e54-49e5-f2e3-0c85e5feb4e5"
      },
      "source": [
        "#prediction : red\n",
        "#expected value : blue\n",
        "plt.plot(test)\n",
        "plt.plot(predictions, color='red')\n",
        "plt.show()"
      ],
      "execution_count": 56,
      "outputs": [
        {
          "output_type": "display_data",
          "data": {
            "image/png": "[encoded data removed]",
            "text/plain": [
              "<Figure size 432x288 with 1 Axes>"
            ]
          },
          "metadata": {
            "tags": [],
            "needs_background": "light"
          }
        }
      ]
    }
  ]
}