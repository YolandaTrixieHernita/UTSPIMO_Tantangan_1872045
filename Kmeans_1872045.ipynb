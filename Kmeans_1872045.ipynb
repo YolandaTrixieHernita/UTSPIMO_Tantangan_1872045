{
  "nbformat": 4,
  "nbformat_minor": 0,
  "metadata": {
    "colab": {
      "name": "Kmeans_1872045.ipynb",
      "provenance": []
    },
    "kernelspec": {
      "name": "python3",
      "display_name": "Python 3"
    },
    "language_info": {
      "name": "python"
    }
  },
  "cells": [
    {
      "cell_type": "code",
      "metadata": {
        "id": "jLifJ5slVPwb"
      },
      "source": [
        "import pandas as pd\n",
        "import numpy as np"
      ],
      "execution_count": null,
      "outputs": []
    },
    {
      "cell_type": "code",
      "metadata": {
        "id": "Qi38SuO9f2k4"
      },
      "source": [
        "import nltk\n",
        "import re\n",
        "import os\n",
        "import codecs\n",
        "from sklearn import feature_extraction\n"
      ],
      "execution_count": null,
      "outputs": []
    },
    {
      "cell_type": "code",
      "metadata": {
        "colab": {
          "base_uri": "https://localhost:8080/"
        },
        "id": "xEryUAB7gQnM",
        "outputId": "52323697-f7e1-44d6-dab7-b31c0a35cf73"
      },
      "source": [
        "!pip install mpld3"
      ],
      "execution_count": null,
      "outputs": [
        {
          "output_type": "stream",
          "text": [
            "Requirement already satisfied: mpld3 in /usr/local/lib/python3.7/dist-packages (0.5.2)\n",
            "Requirement already satisfied: matplotlib in /usr/local/lib/python3.7/dist-packages (from mpld3) (3.2.2)\n",
            "Requirement already satisfied: jinja2 in /usr/local/lib/python3.7/dist-packages (from mpld3) (2.11.3)\n",
            "Requirement already satisfied: pyparsing!=2.0.4,!=2.1.2,!=2.1.6,>=2.0.1 in /usr/local/lib/python3.7/dist-packages (from matplotlib->mpld3) (2.4.7)\n",
            "Requirement already satisfied: kiwisolver>=1.0.1 in /usr/local/lib/python3.7/dist-packages (from matplotlib->mpld3) (1.3.1)\n",
            "Requirement already satisfied: numpy>=1.11 in /usr/local/lib/python3.7/dist-packages (from matplotlib->mpld3) (1.19.5)\n",
            "Requirement already satisfied: cycler>=0.10 in /usr/local/lib/python3.7/dist-packages (from matplotlib->mpld3) (0.10.0)\n",
            "Requirement already satisfied: python-dateutil>=2.1 in /usr/local/lib/python3.7/dist-packages (from matplotlib->mpld3) (2.8.1)\n",
            "Requirement already satisfied: MarkupSafe>=0.23 in /usr/local/lib/python3.7/dist-packages (from jinja2->mpld3) (1.1.1)\n",
            "Requirement already satisfied: six in /usr/local/lib/python3.7/dist-packages (from cycler>=0.10->matplotlib->mpld3) (1.15.0)\n"
          ],
          "name": "stdout"
        }
      ]
    },
    {
      "cell_type": "code",
      "metadata": {
        "id": "5uJv5qJMgamh"
      },
      "source": [
        "import mpld3"
      ],
      "execution_count": null,
      "outputs": []
    },
    {
      "cell_type": "code",
      "metadata": {
        "colab": {
          "base_uri": "https://localhost:8080/",
          "height": 450
        },
        "id": "onus75GGVcvE",
        "outputId": "739c1518-146c-451f-e229-0ec7d9acba8d"
      },
      "source": [
        "df = pd.read_csv('/content/drive/MyDrive/UTS PIMO/question_philoit.csv',usecols=['content','created_at'],parse_dates=['created_at'], index_col=\"created_at\")\n",
        "df"
      ],
      "execution_count": null,
      "outputs": [
        {
          "output_type": "execute_result",
          "data": {
            "text/html": [
              "<div>\n",
              "<style scoped>\n",
              "    .dataframe tbody tr th:only-of-type {\n",
              "        vertical-align: middle;\n",
              "    }\n",
              "\n",
              "    .dataframe tbody tr th {\n",
              "        vertical-align: top;\n",
              "    }\n",
              "\n",
              "    .dataframe thead th {\n",
              "        text-align: right;\n",
              "    }\n",
              "</style>\n",
              "<table border=\"1\" class=\"dataframe\">\n",
              "  <thead>\n",
              "    <tr style=\"text-align: right;\">\n",
              "      <th></th>\n",
              "      <th>content</th>\n",
              "    </tr>\n",
              "    <tr>\n",
              "      <th>created_at</th>\n",
              "      <th></th>\n",
              "    </tr>\n",
              "  </thead>\n",
              "  <tbody>\n",
              "    <tr>\n",
              "      <th>2019-04-22 21:14:14</th>\n",
              "      <td>Apa saja yang perlu dipersiapakan apabila indo...</td>\n",
              "    </tr>\n",
              "    <tr>\n",
              "      <th>2019-04-23 19:36:32</th>\n",
              "      <td>Apa saja contoh penggunaan artificial intellig...</td>\n",
              "    </tr>\n",
              "    <tr>\n",
              "      <th>2019-04-24 18:59:06</th>\n",
              "      <td>Mengapa Go-Jek diinvestasi oleh asing bukan pe...</td>\n",
              "    </tr>\n",
              "    <tr>\n",
              "      <th>2019-04-30 09:48:54</th>\n",
              "      <td>Apa kelebihan dan kekurangan masing-masing 3 f...</td>\n",
              "    </tr>\n",
              "    <tr>\n",
              "      <th>2019-05-09 10:05:23</th>\n",
              "      <td>Apakah blockchain memungkinkan untuk diimpleme...</td>\n",
              "    </tr>\n",
              "    <tr>\n",
              "      <th>...</th>\n",
              "      <td>...</td>\n",
              "    </tr>\n",
              "    <tr>\n",
              "      <th>2020-09-21 08:09:31</th>\n",
              "      <td>apa yang menyebabkan terjadinya banjir</td>\n",
              "    </tr>\n",
              "    <tr>\n",
              "      <th>2020-09-21 08:13:23</th>\n",
              "      <td>Apa manfaat mengonsumsi ikan mas</td>\n",
              "    </tr>\n",
              "    <tr>\n",
              "      <th>2020-09-21 08:15:34</th>\n",
              "      <td>apakah ada kalian yang menggunakan aplikasi in...</td>\n",
              "    </tr>\n",
              "    <tr>\n",
              "      <th>2020-09-21 08:23:42</th>\n",
              "      <td>Apa yang menyebabkan indonesia menjadi negara ...</td>\n",
              "    </tr>\n",
              "    <tr>\n",
              "      <th>2020-09-21 08:24:41</th>\n",
              "      <td>Apa yang harusbanda lakukan jika anda tertular...</td>\n",
              "    </tr>\n",
              "  </tbody>\n",
              "</table>\n",
              "<p>91163 rows × 1 columns</p>\n",
              "</div>"
            ],
            "text/plain": [
              "                                                               content\n",
              "created_at                                                            \n",
              "2019-04-22 21:14:14  Apa saja yang perlu dipersiapakan apabila indo...\n",
              "2019-04-23 19:36:32  Apa saja contoh penggunaan artificial intellig...\n",
              "2019-04-24 18:59:06  Mengapa Go-Jek diinvestasi oleh asing bukan pe...\n",
              "2019-04-30 09:48:54  Apa kelebihan dan kekurangan masing-masing 3 f...\n",
              "2019-05-09 10:05:23  Apakah blockchain memungkinkan untuk diimpleme...\n",
              "...                                                                ...\n",
              "2020-09-21 08:09:31             apa yang menyebabkan terjadinya banjir\n",
              "2020-09-21 08:13:23                   Apa manfaat mengonsumsi ikan mas\n",
              "2020-09-21 08:15:34  apakah ada kalian yang menggunakan aplikasi in...\n",
              "2020-09-21 08:23:42  Apa yang menyebabkan indonesia menjadi negara ...\n",
              "2020-09-21 08:24:41  Apa yang harusbanda lakukan jika anda tertular...\n",
              "\n",
              "[91163 rows x 1 columns]"
            ]
          },
          "metadata": {
            "tags": []
          },
          "execution_count": 5
        }
      ]
    },
    {
      "cell_type": "code",
      "metadata": {
        "colab": {
          "base_uri": "https://localhost:8080/"
        },
        "id": "IoljkzwmXXaA",
        "outputId": "83841ee2-4048-4b4b-dd1e-6b4e490d058d"
      },
      "source": [
        "df.shape"
      ],
      "execution_count": null,
      "outputs": [
        {
          "output_type": "execute_result",
          "data": {
            "text/plain": [
              "(91163, 1)"
            ]
          },
          "metadata": {
            "tags": []
          },
          "execution_count": 6
        }
      ]
    },
    {
      "cell_type": "markdown",
      "metadata": {
        "id": "YC4-Vv5EcbnX"
      },
      "source": [
        "Seleksi tanggal pertanyaan dalam bulan\n",
        "Feb-Apr 2020"
      ]
    },
    {
      "cell_type": "code",
      "metadata": {
        "colab": {
          "base_uri": "https://localhost:8080/",
          "height": 450
        },
        "id": "r7gQ9f2LXbt-",
        "outputId": "df63f4f9-7147-48b1-ca5c-debad37185e7"
      },
      "source": [
        "startyy, startMM, startdd = (2020,2,1) # 1 Feb 2020\n",
        "endyy, endMM, enddd = (2020, 4,30) # 30 apr 2020\n",
        "\n",
        "month_day = pd.concat([\n",
        "                df.index.to_series().dt.year,\n",
        "                df.index.to_series().dt.month, \n",
        "                df.index.to_series().dt.day ], axis=1).apply(tuple, axis=1)\n",
        "\n",
        "df[(month_day >= (startyy, startMM, startdd)) & (month_day <= (endyy, endMM, enddd))]"
      ],
      "execution_count": null,
      "outputs": [
        {
          "output_type": "execute_result",
          "data": {
            "text/html": [
              "<div>\n",
              "<style scoped>\n",
              "    .dataframe tbody tr th:only-of-type {\n",
              "        vertical-align: middle;\n",
              "    }\n",
              "\n",
              "    .dataframe tbody tr th {\n",
              "        vertical-align: top;\n",
              "    }\n",
              "\n",
              "    .dataframe thead th {\n",
              "        text-align: right;\n",
              "    }\n",
              "</style>\n",
              "<table border=\"1\" class=\"dataframe\">\n",
              "  <thead>\n",
              "    <tr style=\"text-align: right;\">\n",
              "      <th></th>\n",
              "      <th>content</th>\n",
              "    </tr>\n",
              "    <tr>\n",
              "      <th>created_at</th>\n",
              "      <th></th>\n",
              "    </tr>\n",
              "  </thead>\n",
              "  <tbody>\n",
              "    <tr>\n",
              "      <th>2020-02-01 00:37:00</th>\n",
              "      <td>Apa yang seharusnya kita kerjakan saat liburan?</td>\n",
              "    </tr>\n",
              "    <tr>\n",
              "      <th>2020-02-01 00:41:34</th>\n",
              "      <td>Apa makanan khas daerah kalian ?</td>\n",
              "    </tr>\n",
              "    <tr>\n",
              "      <th>2020-02-01 00:41:34</th>\n",
              "      <td>Apa makanan khas daerah kalian ?</td>\n",
              "    </tr>\n",
              "    <tr>\n",
              "      <th>2020-02-01 00:41:34</th>\n",
              "      <td>Apa makanan khas daerah kalian ?</td>\n",
              "    </tr>\n",
              "    <tr>\n",
              "      <th>2020-02-01 01:25:41</th>\n",
              "      <td>Menurut kamu yang akan juara club mana ditahun...</td>\n",
              "    </tr>\n",
              "    <tr>\n",
              "      <th>...</th>\n",
              "      <td>...</td>\n",
              "    </tr>\n",
              "    <tr>\n",
              "      <th>2020-04-29 08:26:15</th>\n",
              "      <td>Apa saja kemudahan kalian bekerja dan belajar ...</td>\n",
              "    </tr>\n",
              "    <tr>\n",
              "      <th>2020-04-29 08:26:39</th>\n",
              "      <td>Bagaimana cara kalian agar tidak bosan selama ...</td>\n",
              "    </tr>\n",
              "    <tr>\n",
              "      <th>2020-04-29 08:41:07</th>\n",
              "      <td>Apa olahraga yang mudah dilakukan selama di ru...</td>\n",
              "    </tr>\n",
              "    <tr>\n",
              "      <th>2020-04-30 05:30:07</th>\n",
              "      <td>Apa saja quotes dari film yang paling kalian s...</td>\n",
              "    </tr>\n",
              "    <tr>\n",
              "      <th>2020-04-30 05:32:23</th>\n",
              "      <td>Apa saja dampak covid-19 di daerah kalian</td>\n",
              "    </tr>\n",
              "  </tbody>\n",
              "</table>\n",
              "<p>3140 rows × 1 columns</p>\n",
              "</div>"
            ],
            "text/plain": [
              "                                                               content\n",
              "created_at                                                            \n",
              "2020-02-01 00:37:00    Apa yang seharusnya kita kerjakan saat liburan?\n",
              "2020-02-01 00:41:34                   Apa makanan khas daerah kalian ?\n",
              "2020-02-01 00:41:34                   Apa makanan khas daerah kalian ?\n",
              "2020-02-01 00:41:34                   Apa makanan khas daerah kalian ?\n",
              "2020-02-01 01:25:41  Menurut kamu yang akan juara club mana ditahun...\n",
              "...                                                                ...\n",
              "2020-04-29 08:26:15  Apa saja kemudahan kalian bekerja dan belajar ...\n",
              "2020-04-29 08:26:39  Bagaimana cara kalian agar tidak bosan selama ...\n",
              "2020-04-29 08:41:07  Apa olahraga yang mudah dilakukan selama di ru...\n",
              "2020-04-30 05:30:07  Apa saja quotes dari film yang paling kalian s...\n",
              "2020-04-30 05:32:23          Apa saja dampak covid-19 di daerah kalian\n",
              "\n",
              "[3140 rows x 1 columns]"
            ]
          },
          "metadata": {
            "tags": []
          },
          "execution_count": 7
        }
      ]
    },
    {
      "cell_type": "code",
      "metadata": {
        "colab": {
          "base_uri": "https://localhost:8080/"
        },
        "id": "CjBcfruSczvz",
        "outputId": "bc83f01e-5835-45f8-d11a-b520d9e3cdeb"
      },
      "source": [
        "df[(month_day >= (startyy, startMM, startdd)) & (month_day <= (endyy, endMM, enddd))].shape"
      ],
      "execution_count": null,
      "outputs": [
        {
          "output_type": "execute_result",
          "data": {
            "text/plain": [
              "(3140, 1)"
            ]
          },
          "metadata": {
            "tags": []
          },
          "execution_count": 8
        }
      ]
    },
    {
      "cell_type": "markdown",
      "metadata": {
        "id": "iieaQKBAm3py"
      },
      "source": [
        "tokenisasi masih bahasa inggris"
      ]
    },
    {
      "cell_type": "code",
      "metadata": {
        "id": "z3NK-Dkrs4Tw"
      },
      "source": [
        "from nltk.stem.snowball import SnowballStemmer\n",
        "stemmer = SnowballStemmer(\"english\")"
      ],
      "execution_count": null,
      "outputs": []
    },
    {
      "cell_type": "code",
      "metadata": {
        "id": "MqeghHmeqaj6"
      },
      "source": [
        "def tokenize_and_stem(row):\n",
        "    # first tokenize by sentence, then by word to ensure that punctuation is caught as it's own token\n",
        "    tokens = [word for sent in nltk.sent_tokenize(row) for word in nltk.word_tokenize(sent)]\n",
        "    filtered_tokens = []\n",
        "    # filter out any tokens not containing letters (e.g., numeric tokens, raw punctuation)\n",
        "    for token in tokens:\n",
        "        if re.search('[a-zA-Z]', token):\n",
        "            filtered_tokens.append(token)\n",
        "    stems = [stemmer.stem(t) for t in filtered_tokens]\n",
        "    return stems\n",
        "\n",
        "\n",
        "def tokenize_only(row):\n",
        "    # first tokenize by sentence, then by word to ensure that punctuation is caught as it's own token\n",
        "    tokens = [word.lower() for sent in nltk.sent_tokenize(row) for word in nltk.word_tokenize(sent)]\n",
        "    filtered_tokens = []\n",
        "    # filter out any tokens not containing letters (e.g., numeric tokens, raw punctuation)\n",
        "    for token in tokens:\n",
        "        if re.search('[a-zA-Z]', token):\n",
        "            filtered_tokens.append(token)\n",
        "    return filtered_tokens"
      ],
      "execution_count": null,
      "outputs": []
    },
    {
      "cell_type": "code",
      "metadata": {
        "id": "5-Jt3nqKqmax"
      },
      "source": [
        "totalvocab_stemmed = []\n",
        "totalvocab_tokenized = []\n",
        "for i in df['content']:\n",
        "    allwords_stemmed = tokenize_and_stem(i) #for each item in 'synopses', tokenize/stem\n",
        "    totalvocab_stemmed.extend(allwords_stemmed) #extend the 'totalvocab_stemmed' list\n",
        "    \n",
        "    allwords_tokenized = tokenize_only(i)\n",
        "    totalvocab_tokenized.extend(allwords_tokenized)"
      ],
      "execution_count": null,
      "outputs": []
    },
    {
      "cell_type": "markdown",
      "metadata": {
        "id": "mvHsOsJvS3gd"
      },
      "source": [
        "TF IDF"
      ]
    },
    {
      "cell_type": "code",
      "metadata": {
        "colab": {
          "base_uri": "https://localhost:8080/"
        },
        "id": "4xeFNuX_ohdQ",
        "outputId": "26ff1dd7-af9d-4535-fc68-a9b92856df5c"
      },
      "source": [
        "from sklearn.feature_extraction.text import TfidfVectorizer\n",
        "\n",
        "#define vectorizer parameters\n",
        "tfidf_vectorizer = TfidfVectorizer(max_df=0.8, max_features=200000,\n",
        "                                 min_df=0.2, stop_words='english',\n",
        "                                 use_idf=True, tokenizer=tokenize_and_stem, ngram_range=(1,3))\n",
        "\n",
        "%time tfidf_matrix = tfidf_vectorizer.fit_transform(df['content']) \n",
        "\n",
        "print(tfidf_matrix.shape)"
      ],
      "execution_count": null,
      "outputs": [
        {
          "output_type": "stream",
          "text": [
            "/usr/local/lib/python3.7/dist-packages/sklearn/feature_extraction/text.py:385: UserWarning: Your stop_words may be inconsistent with your preprocessing. Tokenizing the stop words generated tokens ['abov', 'afterward', 'alon', 'alreadi', 'alway', 'ani', 'anoth', 'anyon', 'anyth', 'anywher', 'becam', 'becaus', 'becom', 'befor', 'besid', 'cri', 'describ', 'dure', 'els', 'elsewher', 'empti', 'everi', 'everyon', 'everyth', 'everywher', 'fifti', 'forti', 'henc', 'hereaft', 'herebi', 'howev', 'hundr', 'inde', 'mani', 'meanwhil', 'moreov', 'nobodi', 'noon', 'noth', 'nowher', 'onc', 'onli', 'otherwis', 'ourselv', 'perhap', 'pleas', 'sever', 'sinc', 'sincer', 'sixti', 'someon', 'someth', 'sometim', 'somewher', 'themselv', 'thenc', 'thereaft', 'therebi', 'therefor', 'togeth', 'twelv', 'twenti', 'veri', 'whatev', 'whenc', 'whenev', 'wherea', 'whereaft', 'wherebi', 'wherev', 'whi', 'yourselv'] not in stop_words.\n",
            "  'stop_words.' % sorted(inconsistent))\n"
          ],
          "name": "stderr"
        },
        {
          "output_type": "stream",
          "text": [
            "CPU times: user 31 s, sys: 229 ms, total: 31.3 s\n",
            "Wall time: 31.3 s\n",
            "(91163, 2)\n"
          ],
          "name": "stdout"
        }
      ]
    },
    {
      "cell_type": "code",
      "metadata": {
        "id": "BTxDnuP9u_vh"
      },
      "source": [
        "terms = tfidf_vectorizer.get_feature_names()"
      ],
      "execution_count": null,
      "outputs": []
    },
    {
      "cell_type": "code",
      "metadata": {
        "id": "pO0ISrMrvMwP"
      },
      "source": [
        "#terjadi crash\n",
        "from sklearn.metrics.pairwise import cosine_similarity\n",
        "dist = 1 - cosine_similarity(tfidf_matrix)"
      ],
      "execution_count": null,
      "outputs": []
    },
    {
      "cell_type": "markdown",
      "metadata": {
        "id": "l6eD85YqS81i"
      },
      "source": [
        "Kmeans"
      ]
    },
    {
      "cell_type": "code",
      "metadata": {
        "colab": {
          "base_uri": "https://localhost:8080/"
        },
        "id": "c2OM1-9C09Jq",
        "outputId": "b0a21f66-5c72-4b2e-dbfe-63f506b79fc6"
      },
      "source": [
        "from sklearn.cluster import KMeans\n",
        "\n",
        "num_clusters = 5\n",
        "km = KMeans(n_clusters=num_clusters)\n",
        "%time km.fit(tfidf_matrix)\n",
        "clusters = km.labels_.tolist()"
      ],
      "execution_count": null,
      "outputs": [
        {
          "output_type": "stream",
          "text": [
            "CPU times: user 3.71 s, sys: 23.1 ms, total: 3.73 s\n",
            "Wall time: 3.82 s\n"
          ],
          "name": "stdout"
        }
      ]
    }
  ]
}